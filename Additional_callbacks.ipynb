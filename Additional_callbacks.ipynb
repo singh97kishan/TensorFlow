{
  "nbformat": 4,
  "nbformat_minor": 0,
  "metadata": {
    "kernelspec": {
      "display_name": "Python 3",
      "language": "python",
      "name": "python3"
    },
    "language_info": {
      "codemirror_mode": {
        "name": "ipython",
        "version": 3
      },
      "file_extension": ".py",
      "mimetype": "text/x-python",
      "name": "python",
      "nbconvert_exporter": "python",
      "pygments_lexer": "ipython3",
      "version": "3.7.1"
    },
    "colab": {
      "name": "Additional callbacks.ipynb",
      "provenance": [],
      "include_colab_link": true
    }
  },
  "cells": [
    {
      "cell_type": "markdown",
      "metadata": {
        "id": "view-in-github",
        "colab_type": "text"
      },
      "source": [
        "<a href=\"https://colab.research.google.com/github/singh97kishan/TensorFlow/blob/main/Additional_callbacks.ipynb\" target=\"_parent\"><img src=\"https://colab.research.google.com/assets/colab-badge.svg\" alt=\"Open In Colab\"/></a>"
      ]
    },
    {
      "cell_type": "markdown",
      "metadata": {
        "id": "UM5DnibCGIBg"
      },
      "source": [
        "# Additional callbacks\n",
        "\n",
        "In this reading we'll be looking at more of the inbuilt callbacks available in Keras."
      ]
    },
    {
      "cell_type": "code",
      "metadata": {
        "id": "35ombUQpGIBi",
        "outputId": "f8d2051d-6e9b-4ac2-e518-9430db60ecea",
        "colab": {
          "base_uri": "https://localhost:8080/",
          "height": 34
        }
      },
      "source": [
        "import tensorflow as tf\n",
        "print(tf.__version__)"
      ],
      "execution_count": null,
      "outputs": [
        {
          "output_type": "stream",
          "text": [
            "2.3.0\n"
          ],
          "name": "stdout"
        }
      ]
    },
    {
      "cell_type": "markdown",
      "metadata": {
        "id": "k5bXJElrGIBr"
      },
      "source": [
        "We will again be using the sklearn diabetes dataset to demonstrate these callbacks."
      ]
    },
    {
      "cell_type": "code",
      "metadata": {
        "id": "3aFVr07UGIBs"
      },
      "source": [
        "# Load the diabetes dataset\n",
        "\n",
        "from sklearn.datasets import load_diabetes\n",
        "\n",
        "diabetes_dataset = load_diabetes()"
      ],
      "execution_count": null,
      "outputs": []
    },
    {
      "cell_type": "code",
      "metadata": {
        "id": "qj_bFR_UGIBy"
      },
      "source": [
        "# Save the input and target variables\n",
        "\n",
        "from sklearn.model_selection import train_test_split\n",
        "\n",
        "data = diabetes_dataset['data']\n",
        "targets = diabetes_dataset['target']"
      ],
      "execution_count": null,
      "outputs": []
    },
    {
      "cell_type": "code",
      "metadata": {
        "id": "xcTPU6iiGIB5"
      },
      "source": [
        "# Split the data set into training and test sets\n",
        "\n",
        "train_data, test_data, train_targets, test_targets = train_test_split(data, targets, test_size=0.1)"
      ],
      "execution_count": null,
      "outputs": []
    },
    {
      "cell_type": "markdown",
      "metadata": {
        "id": "swi1ibrTGICA"
      },
      "source": [
        "Let's also build a simple model to fit to the data with our callbacks."
      ]
    },
    {
      "cell_type": "code",
      "metadata": {
        "id": "SfPQ2ASuGICB"
      },
      "source": [
        "# Build the model\n",
        "\n",
        "from tensorflow.keras.models import Sequential\n",
        "from tensorflow.keras.layers import Dense\n",
        "\n",
        "model = tf.keras.Sequential([\n",
        "    Dense(128, activation='relu', input_shape=(train_data.shape[1],)),\n",
        "    Dense(64,activation='relu'),\n",
        "    Dense(64, activation='relu'),\n",
        "    Dense(64, activation='relu'),\n",
        "    Dense(1)        \n",
        "])"
      ],
      "execution_count": null,
      "outputs": []
    },
    {
      "cell_type": "code",
      "metadata": {
        "id": "y7koLj7JGICb"
      },
      "source": [
        "# Compile the model\n",
        "\n",
        "model.compile(loss='mse',\n",
        "                optimizer=\"adam\",metrics=[\"mse\",\"mae\"])"
      ],
      "execution_count": null,
      "outputs": []
    },
    {
      "cell_type": "markdown",
      "metadata": {
        "id": "j_AQW7kIGICh"
      },
      "source": [
        "Now onto the callbacks!"
      ]
    },
    {
      "cell_type": "markdown",
      "metadata": {
        "id": "yHiG7gnUGICr"
      },
      "source": [
        "## Learning rate scheduler\n",
        "\n",
        "**Usage:** `tf.keras.callbacks.LearningRateScheduler(schedule, verbose=0)`\n",
        "\n",
        "The learning rate scheduler that we implemented in the previous reading as a custom callback is also available as a built in callback. \n",
        "\n",
        "As in our custom callback, the `LearningRateScheduler` in Keras takes a function `schedule` as an argument. \n",
        "\n",
        "This function `schedule` should take two arguments:\n",
        "* The current epoch (as an integer), and\n",
        "* The current learning rate,\n",
        "\n",
        "and return new learning rate for that epoch. \n",
        "\n",
        "The `LearningRateScheduler` also has an optional `verbose` argument, which prints information about the learning rate if it is set to 1.\n",
        "\n",
        "Let's see a simple example."
      ]
    },
    {
      "cell_type": "code",
      "metadata": {
        "id": "wB7l0RIAGICs"
      },
      "source": [
        "# Define the learning rate schedule function\n",
        "\n",
        "def lr_function(epoch, lr):\n",
        "    if epoch % 2 == 0:\n",
        "        return lr\n",
        "    else:\n",
        "        return lr + epoch/1000"
      ],
      "execution_count": null,
      "outputs": []
    },
    {
      "cell_type": "code",
      "metadata": {
        "id": "6yDSA9hzGICz",
        "outputId": "87af1e09-b03b-46f7-e368-95262ae6882b",
        "colab": {
          "base_uri": "https://localhost:8080/",
          "height": 357
        }
      },
      "source": [
        "# Train the model\n",
        "\n",
        "history = model.fit(train_data, train_targets, epochs=10,\n",
        "                    callbacks=[tf.keras.callbacks.LearningRateScheduler(lr_function, verbose=1)], verbose=False)"
      ],
      "execution_count": null,
      "outputs": [
        {
          "output_type": "stream",
          "text": [
            "\n",
            "Epoch 00001: LearningRateScheduler reducing learning rate to 0.0010000000474974513.\n",
            "\n",
            "Epoch 00002: LearningRateScheduler reducing learning rate to 0.0020000000474974513.\n",
            "\n",
            "Epoch 00003: LearningRateScheduler reducing learning rate to 0.0020000000949949026.\n",
            "\n",
            "Epoch 00004: LearningRateScheduler reducing learning rate to 0.005000000094994903.\n",
            "\n",
            "Epoch 00005: LearningRateScheduler reducing learning rate to 0.004999999888241291.\n",
            "\n",
            "Epoch 00006: LearningRateScheduler reducing learning rate to 0.009999999888241292.\n",
            "\n",
            "Epoch 00007: LearningRateScheduler reducing learning rate to 0.009999999776482582.\n",
            "\n",
            "Epoch 00008: LearningRateScheduler reducing learning rate to 0.01699999977648258.\n",
            "\n",
            "Epoch 00009: LearningRateScheduler reducing learning rate to 0.016999999061226845.\n",
            "\n",
            "Epoch 00010: LearningRateScheduler reducing learning rate to 0.025999999061226846.\n"
          ],
          "name": "stdout"
        }
      ]
    },
    {
      "cell_type": "markdown",
      "metadata": {
        "id": "vVO6F3DvGIC5"
      },
      "source": [
        "You can also use lambda functions to define your `schedule` given an epoch."
      ]
    },
    {
      "cell_type": "code",
      "metadata": {
        "id": "A_f018A6GIC6",
        "outputId": "7a7068b5-dd5b-4e2b-875c-d03d1a217d33",
        "colab": {
          "base_uri": "https://localhost:8080/",
          "height": 697
        }
      },
      "source": [
        "# Train the model with a difference schedule\n",
        "\n",
        "history = model.fit(train_data, train_targets, epochs=10,\n",
        "                    callbacks=[tf.keras.callbacks.LearningRateScheduler(lambda x:1/(3+5*x), verbose=1)], \n",
        "                    verbose=2)"
      ],
      "execution_count": null,
      "outputs": [
        {
          "output_type": "stream",
          "text": [
            "\n",
            "Epoch 00001: LearningRateScheduler reducing learning rate to 0.3333333333333333.\n",
            "Epoch 1/10\n",
            "13/13 - 0s - loss: 6457.3921 - mse: 6457.3921 - mae: 68.6482\n",
            "\n",
            "Epoch 00002: LearningRateScheduler reducing learning rate to 0.125.\n",
            "Epoch 2/10\n",
            "13/13 - 0s - loss: 6546.2559 - mse: 6546.2559 - mae: 67.8823\n",
            "\n",
            "Epoch 00003: LearningRateScheduler reducing learning rate to 0.07692307692307693.\n",
            "Epoch 3/10\n",
            "13/13 - 0s - loss: 6235.5181 - mse: 6235.5181 - mae: 67.5694\n",
            "\n",
            "Epoch 00004: LearningRateScheduler reducing learning rate to 0.05555555555555555.\n",
            "Epoch 4/10\n",
            "13/13 - 0s - loss: 6175.9326 - mse: 6175.9326 - mae: 67.0296\n",
            "\n",
            "Epoch 00005: LearningRateScheduler reducing learning rate to 0.043478260869565216.\n",
            "Epoch 5/10\n",
            "13/13 - 0s - loss: 6123.3340 - mse: 6123.3340 - mae: 67.0279\n",
            "\n",
            "Epoch 00006: LearningRateScheduler reducing learning rate to 0.03571428571428571.\n",
            "Epoch 6/10\n",
            "13/13 - 0s - loss: 6129.0518 - mse: 6129.0518 - mae: 67.0107\n",
            "\n",
            "Epoch 00007: LearningRateScheduler reducing learning rate to 0.030303030303030304.\n",
            "Epoch 7/10\n",
            "13/13 - 0s - loss: 6123.0420 - mse: 6123.0420 - mae: 66.9432\n",
            "\n",
            "Epoch 00008: LearningRateScheduler reducing learning rate to 0.02631578947368421.\n",
            "Epoch 8/10\n",
            "13/13 - 0s - loss: 6131.1821 - mse: 6131.1821 - mae: 66.9176\n",
            "\n",
            "Epoch 00009: LearningRateScheduler reducing learning rate to 0.023255813953488372.\n",
            "Epoch 9/10\n",
            "13/13 - 0s - loss: 6140.6084 - mse: 6140.6084 - mae: 66.9341\n",
            "\n",
            "Epoch 00010: LearningRateScheduler reducing learning rate to 0.020833333333333332.\n",
            "Epoch 10/10\n",
            "13/13 - 0s - loss: 6155.3853 - mse: 6155.3853 - mae: 67.4306\n"
          ],
          "name": "stdout"
        }
      ]
    },
    {
      "cell_type": "markdown",
      "metadata": {
        "id": "usfgL7CdGIDC"
      },
      "source": [
        "## CSV logger\n",
        "**Usage** `tf.keras.callbacks.CSVLogger(filename, separator=',', append=False)`\n",
        "\n",
        "This callback streams the results from each epoch into a CSV file.\n",
        "The first line of the CSV file will be the names of pieces of information recorded on each subsequent line, beginning with the epoch and loss value. The values of metrics at the end of each epoch will also be recorded.\n",
        "\n",
        "The only compulsory argument is the `filename` for the log to be streamed to. This could also be a filepath.\n",
        "\n",
        "You can also specify the `separator` to be used between entries on each line.\n",
        "\n",
        "The `append` argument allows you the option to append your results to an existing file with the same name. This can be particularly useful if you are continuing training.\n",
        "\n",
        "Let's see an example."
      ]
    },
    {
      "cell_type": "code",
      "metadata": {
        "id": "bp7ZwBPGGIDD"
      },
      "source": [
        "# Train the model with a CSV logger\n",
        "\n",
        "history = model.fit(train_data, train_targets, epochs=10,\n",
        "                    callbacks=[tf.keras.callbacks.CSVLogger(\"results.csv\")], verbose=False)"
      ],
      "execution_count": null,
      "outputs": []
    },
    {
      "cell_type": "markdown",
      "metadata": {
        "id": "sHeID33HGIDN"
      },
      "source": [
        "Let's view the information in the CSV file we have created using `pandas`."
      ]
    },
    {
      "cell_type": "code",
      "metadata": {
        "id": "q2ni8L3AGIDO"
      },
      "source": [
        "# Load the CSV\n",
        "\n",
        "import pandas as pd\n",
        "\n",
        "pd.read_csv(\"results.csv\", index_col='epoch')"
      ],
      "execution_count": null,
      "outputs": []
    },
    {
      "cell_type": "markdown",
      "metadata": {
        "id": "fjj1FBgLGIDW"
      },
      "source": [
        "## Lambda callbacks\n",
        "**Usage** `tf.keras.callbacks.LambdaCallback(\n",
        "        on_epoch_begin=None, on_epoch_end=None, \n",
        "        on_batch_begin=None, on_batch_end=None, \n",
        "        on_train_begin=None, on_train_end=None)`\n",
        "\n",
        "Lambda callbacks are used to quickly define simple custom callbacks with the use of lambda functions.\n",
        "\n",
        "Each of the functions require some positional arguments.\n",
        "* `on_epoch_begin` and `on_epoch_end` expect two arguments: `epoch` and `logs`,\n",
        "* `on_batch_begin` and `on_batch_end` expect two arguments: `batch` and `logs` and\n",
        "* `on_train_begin` and `on_train_end` expect one argument: `logs`.\n",
        "\n",
        "Let's see an example of this in practice."
      ]
    },
    {
      "cell_type": "code",
      "metadata": {
        "id": "poLSAauSGIDX"
      },
      "source": [
        "# Print the epoch number at the beginning of each epoch\n",
        "\n",
        "epoch_callback = tf.keras.callbacks.LambdaCallback(\n",
        "    on_epoch_begin=lambda epoch,logs: print('Starting Epoch {}!'.format(epoch+1)))"
      ],
      "execution_count": null,
      "outputs": []
    },
    {
      "cell_type": "code",
      "metadata": {
        "id": "Cs5rYQZnGIDi"
      },
      "source": [
        "# Print the loss at the end of each batch\n",
        "\n",
        "batch_loss_callback = tf.keras.callbacks.LambdaCallback(\n",
        "    on_batch_end=lambda batch,logs: print('\\n After batch {}, the loss is {:7.2f}.'.format(batch, logs['loss'])))"
      ],
      "execution_count": null,
      "outputs": []
    },
    {
      "cell_type": "code",
      "metadata": {
        "id": "kt0iEGacGIDp"
      },
      "source": [
        "# Inform that training is finished\n",
        "\n",
        "train_finish_callback = tf.keras.callbacks.LambdaCallback(\n",
        "    on_train_end=lambda logs: print('Training finished!'))"
      ],
      "execution_count": null,
      "outputs": []
    },
    {
      "cell_type": "code",
      "metadata": {
        "id": "ntwMXYONGIDw"
      },
      "source": [
        "# Train the model with the lambda callbacks\n",
        "\n",
        "history = model.fit(train_data, train_targets, epochs=5, batch_size=100,\n",
        "                    callbacks=[epoch_callback, batch_loss_callback,train_finish_callback], verbose=False)"
      ],
      "execution_count": null,
      "outputs": []
    },
    {
      "cell_type": "markdown",
      "metadata": {
        "id": "wg7n2_d5GID3"
      },
      "source": [
        "## Reduce learning rate on plateau\n",
        "**Usage** `tf.keras.callbacks.ReduceLROnPlateau(\n",
        "            monitor='val_loss', \n",
        "            factor=0.1, \n",
        "            patience=10, \n",
        "            verbose=0, \n",
        "            mode='auto', \n",
        "            min_delta=0.0001, \n",
        "            cooldown=0, \n",
        "            min_lr=0)`\n",
        "\n",
        "The `ReduceLROnPlateau` callback allows reduction of the learning rate when a metric has stopped improving. \n",
        "The arguments are similar to those used in the `EarlyStopping` callback.\n",
        "* The argument `monitor` is used to specify which metric to base the callback on.\n",
        "* The `factor` is the factor by which the learning rate decreases i.e., new_lr=factor*old_lr.\n",
        "* The `patience` is the number of epochs where there is no improvement on the monitored metric before the learning rate is reduced.\n",
        "* The `verbose` argument will produce progress messages when set to 1.\n",
        "* The `mode` determines whether the learning rate will decrease when the monitored quantity stops increasing (`max`) or decreasing (`min`). The `auto` setting causes the callback to infer the mode from the monitored quantity.\n",
        "* The `min_delta` is the smallest change in the monitored quantity to be deemed an improvement.\n",
        "* The `cooldown` is the number of epochs to wait after the learning rate is changed before the callback resumes normal operation.\n",
        "* The `min_lr` is a lower bound on the learning rate that the callback will produce.\n",
        "\n",
        "Let's examine a final example."
      ]
    },
    {
      "cell_type": "code",
      "metadata": {
        "id": "yKBDRwUPGID4"
      },
      "source": [
        "# Train the model with the ReduceLROnPlateau callback\n",
        "\n",
        "history = model.fit(train_data, train_targets, epochs=100, batch_size=100,\n",
        "                    callbacks=[tf.keras.callbacks.ReduceLROnPlateau(\n",
        "                        monitor=\"loss\",factor=0.2, verbose=1)], verbose=False)"
      ],
      "execution_count": null,
      "outputs": []
    },
    {
      "cell_type": "markdown",
      "metadata": {
        "id": "IaXuVfF3GIEB"
      },
      "source": [
        "### Further reading and resources\n",
        "* https://keras.io/callbacks/\n",
        "* https://www.tensorflow.org/api_docs/python/tf/keras/callbacks/LearningRateScheduler\n",
        "* https://www.tensorflow.org/api_docs/python/tf/keras/callbacks/CSVLogger\n",
        "* https://www.tensorflow.org/api_docs/python/tf/keras/callbacks/LambdaCallback"
      ]
    }
  ]
}