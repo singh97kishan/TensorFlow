{
  "nbformat": 4,
  "nbformat_minor": 0,
  "metadata": {
    "accelerator": "GPU",
    "colab": {
      "name": "Copy of Course 3 - Week 3 - Lesson 2.ipynb",
      "provenance": [],
      "collapsed_sections": [],
      "toc_visible": true,
      "include_colab_link": true
    },
    "kernelspec": {
      "display_name": "Python 3",
      "language": "python",
      "name": "python3"
    },
    "language_info": {
      "codemirror_mode": {
        "name": "ipython",
        "version": 3
      },
      "file_extension": ".py",
      "mimetype": "text/x-python",
      "name": "python",
      "nbconvert_exporter": "python",
      "pygments_lexer": "ipython3",
      "version": "3.7.6"
    }
  },
  "cells": [
    {
      "cell_type": "markdown",
      "metadata": {
        "id": "view-in-github",
        "colab_type": "text"
      },
      "source": [
        "<a href=\"https://colab.research.google.com/github/singh97kishan/TensorFlow/blob/main/Copy_of_Course_3_Week_3_Lesson_2.ipynb\" target=\"_parent\"><img src=\"https://colab.research.google.com/assets/colab-badge.svg\" alt=\"Open In Colab\"/></a>"
      ]
    },
    {
      "cell_type": "code",
      "metadata": {
        "id": "zX4Kg8DUTKWO"
      },
      "source": [
        "#@title Licensed under the Apache License, Version 2.0 (the \"License\");\n",
        "# you may not use this file except in compliance with the License.\n",
        "# You may obtain a copy of the License at\n",
        "#\n",
        "# https://www.apache.org/licenses/LICENSE-2.0\n",
        "#\n",
        "# Unless required by applicable law or agreed to in writing, software\n",
        "# distributed under the License is distributed on an \"AS IS\" BASIS,\n",
        "# WITHOUT WARRANTIES OR CONDITIONS OF ANY KIND, either express or implied.\n",
        "# See the License for the specific language governing permissions and\n",
        "# limitations under the License."
      ],
      "execution_count": null,
      "outputs": []
    },
    {
      "cell_type": "markdown",
      "metadata": {
        "id": "l_4esN7WqxT5"
      },
      "source": [
        "<a href=\"https://colab.research.google.com/github/lmoroney/dlaicourse/blob/master/TensorFlow%20In%20Practice/Course%203%20-%20NLP/Course%203%20-%20Week%203%20-%20Lesson%202.ipynb\" target=\"_parent\"><img src=\"https://colab.research.google.com/assets/colab-badge.svg\" alt=\"Open In Colab\"/></a>"
      ]
    },
    {
      "cell_type": "code",
      "metadata": {
        "id": "jGwXGIXvFhXW",
        "outputId": "f8a74070-5808-431d-bebd-bb55b7f05098",
        "colab": {
          "base_uri": "https://localhost:8080/",
          "height": 1000
        }
      },
      "source": [
        "import numpy as np\n",
        "\n",
        "import json\n",
        "import tensorflow as tf\n",
        "\n",
        "from tensorflow.keras.preprocessing.text import Tokenizer\n",
        "from tensorflow.keras.preprocessing.sequence import pad_sequences\n",
        "\n",
        "!wget --no-check-certificate \\\n",
        "    https://storage.googleapis.com/laurencemoroney-blog.appspot.com/sarcasm.json \\\n",
        "    -O /tmp/sarcasm.json\n",
        "\n",
        "vocab_size = 1000\n",
        "embedding_dim = 16\n",
        "max_length = 120\n",
        "trunc_type='post'\n",
        "padding_type='post'\n",
        "oov_tok = \"<OOV>\"\n",
        "training_size = 20000\n",
        "\n",
        "\n",
        "with open(\"/tmp/sarcasm.json\", 'r') as f:\n",
        "    datastore = json.load(f)\n",
        "\n",
        "\n",
        "sentences = []\n",
        "labels = []\n",
        "urls = []\n",
        "for item in datastore:\n",
        "    sentences.append(item['headline'])\n",
        "    labels.append(item['is_sarcastic'])\n",
        "\n",
        "training_sentences = sentences[0:training_size]\n",
        "testing_sentences = sentences[training_size:]\n",
        "training_labels = labels[0:training_size]\n",
        "testing_labels = labels[training_size:]\n",
        "\n",
        "tokenizer = Tokenizer(num_words=vocab_size, oov_token=oov_tok)\n",
        "tokenizer.fit_on_texts(training_sentences)\n",
        "\n",
        "word_index = tokenizer.word_index\n",
        "\n",
        "training_sequences = tokenizer.texts_to_sequences(training_sentences)\n",
        "training_padded = pad_sequences(training_sequences, maxlen=max_length, padding=padding_type, truncating=trunc_type)\n",
        "\n",
        "testing_sequences = tokenizer.texts_to_sequences(testing_sentences)\n",
        "testing_padded = pad_sequences(testing_sequences, maxlen=max_length, padding=padding_type, truncating=trunc_type)\n",
        "\n",
        "model = tf.keras.Sequential([\n",
        "    tf.keras.layers.Embedding(vocab_size, embedding_dim, input_length=max_length),\n",
        "    tf.keras.layers.Bidirectional(tf.keras.layers.LSTM(32)),\n",
        "    tf.keras.layers.Dense(24, activation='relu'),\n",
        "    tf.keras.layers.Dense(1, activation='sigmoid')\n",
        "])\n",
        "model.compile(loss='binary_crossentropy',optimizer='adam',metrics=['accuracy'])\n",
        "model.summary()\n",
        "\n",
        "num_epochs = 50\n",
        "training_padded = np.array(training_padded)\n",
        "training_labels = np.array(training_labels)\n",
        "testing_padded = np.array(testing_padded)\n",
        "testing_labels = np.array(testing_labels)\n",
        "history = model.fit(training_padded, training_labels, epochs=num_epochs, validation_data=(testing_padded, testing_labels), verbose=1)\n"
      ],
      "execution_count": null,
      "outputs": [
        {
          "output_type": "stream",
          "text": [
            "--2020-10-14 05:57:32--  https://storage.googleapis.com/laurencemoroney-blog.appspot.com/sarcasm.json\n",
            "Resolving storage.googleapis.com (storage.googleapis.com)... 74.125.142.128, 74.125.20.128, 74.125.195.128, ...\n",
            "Connecting to storage.googleapis.com (storage.googleapis.com)|74.125.142.128|:443... connected.\n",
            "HTTP request sent, awaiting response... 200 OK\n",
            "Length: 5643545 (5.4M) [application/json]\n",
            "Saving to: ‘/tmp/sarcasm.json’\n",
            "\n",
            "\r/tmp/sarcasm.json     0%[                    ]       0  --.-KB/s               \r/tmp/sarcasm.json   100%[===================>]   5.38M  --.-KB/s    in 0.05s   \n",
            "\n",
            "2020-10-14 05:57:32 (107 MB/s) - ‘/tmp/sarcasm.json’ saved [5643545/5643545]\n",
            "\n",
            "Model: \"sequential\"\n",
            "_________________________________________________________________\n",
            "Layer (type)                 Output Shape              Param #   \n",
            "=================================================================\n",
            "embedding (Embedding)        (None, 120, 16)           16000     \n",
            "_________________________________________________________________\n",
            "bidirectional (Bidirectional (None, 64)                12544     \n",
            "_________________________________________________________________\n",
            "dense (Dense)                (None, 24)                1560      \n",
            "_________________________________________________________________\n",
            "dense_1 (Dense)              (None, 1)                 25        \n",
            "=================================================================\n",
            "Total params: 30,129\n",
            "Trainable params: 30,129\n",
            "Non-trainable params: 0\n",
            "_________________________________________________________________\n",
            "Epoch 1/50\n",
            "625/625 [==============================] - 10s 16ms/step - loss: 0.4536 - accuracy: 0.7736 - val_loss: 0.4004 - val_accuracy: 0.8101\n",
            "Epoch 2/50\n",
            "625/625 [==============================] - 9s 15ms/step - loss: 0.3441 - accuracy: 0.8439 - val_loss: 0.3720 - val_accuracy: 0.8319\n",
            "Epoch 3/50\n",
            "625/625 [==============================] - 10s 15ms/step - loss: 0.3172 - accuracy: 0.8566 - val_loss: 0.3718 - val_accuracy: 0.8328\n",
            "Epoch 4/50\n",
            "625/625 [==============================] - 9s 15ms/step - loss: 0.3018 - accuracy: 0.8663 - val_loss: 0.3737 - val_accuracy: 0.8343\n",
            "Epoch 5/50\n",
            "625/625 [==============================] - 9s 15ms/step - loss: 0.2910 - accuracy: 0.8734 - val_loss: 0.3830 - val_accuracy: 0.8284\n",
            "Epoch 6/50\n",
            "625/625 [==============================] - 9s 15ms/step - loss: 0.2827 - accuracy: 0.8755 - val_loss: 0.3798 - val_accuracy: 0.8313\n",
            "Epoch 7/50\n",
            "625/625 [==============================] - 9s 15ms/step - loss: 0.2750 - accuracy: 0.8821 - val_loss: 0.4004 - val_accuracy: 0.8241\n",
            "Epoch 8/50\n",
            "625/625 [==============================] - 9s 15ms/step - loss: 0.2702 - accuracy: 0.8831 - val_loss: 0.4203 - val_accuracy: 0.8220\n",
            "Epoch 9/50\n",
            "625/625 [==============================] - 9s 15ms/step - loss: 0.2649 - accuracy: 0.8846 - val_loss: 0.3957 - val_accuracy: 0.8256\n",
            "Epoch 10/50\n",
            "625/625 [==============================] - 9s 15ms/step - loss: 0.2604 - accuracy: 0.8887 - val_loss: 0.4093 - val_accuracy: 0.8220\n",
            "Epoch 11/50\n",
            "625/625 [==============================] - 9s 15ms/step - loss: 0.2540 - accuracy: 0.8917 - val_loss: 0.4098 - val_accuracy: 0.8232\n",
            "Epoch 12/50\n",
            "625/625 [==============================] - 9s 15ms/step - loss: 0.2465 - accuracy: 0.8960 - val_loss: 0.4241 - val_accuracy: 0.8229\n",
            "Epoch 13/50\n",
            "625/625 [==============================] - 9s 14ms/step - loss: 0.2400 - accuracy: 0.8972 - val_loss: 0.4378 - val_accuracy: 0.8232\n",
            "Epoch 14/50\n",
            "625/625 [==============================] - 9s 14ms/step - loss: 0.2323 - accuracy: 0.9008 - val_loss: 0.4504 - val_accuracy: 0.8188\n",
            "Epoch 15/50\n",
            "625/625 [==============================] - 9s 15ms/step - loss: 0.2240 - accuracy: 0.9062 - val_loss: 0.4457 - val_accuracy: 0.8220\n",
            "Epoch 16/50\n",
            "625/625 [==============================] - 9s 15ms/step - loss: 0.2147 - accuracy: 0.9113 - val_loss: 0.4843 - val_accuracy: 0.8217\n",
            "Epoch 17/50\n",
            "625/625 [==============================] - 9s 15ms/step - loss: 0.2078 - accuracy: 0.9131 - val_loss: 0.4710 - val_accuracy: 0.8171\n",
            "Epoch 18/50\n",
            "625/625 [==============================] - 9s 14ms/step - loss: 0.2001 - accuracy: 0.9168 - val_loss: 0.4994 - val_accuracy: 0.8204\n",
            "Epoch 19/50\n",
            "625/625 [==============================] - 9s 15ms/step - loss: 0.1934 - accuracy: 0.9212 - val_loss: 0.5099 - val_accuracy: 0.8199\n",
            "Epoch 20/50\n",
            "625/625 [==============================] - 9s 14ms/step - loss: 0.1838 - accuracy: 0.9234 - val_loss: 0.5694 - val_accuracy: 0.8116\n",
            "Epoch 21/50\n",
            "625/625 [==============================] - 9s 14ms/step - loss: 0.1772 - accuracy: 0.9285 - val_loss: 0.5524 - val_accuracy: 0.8144\n",
            "Epoch 22/50\n",
            "625/625 [==============================] - 9s 14ms/step - loss: 0.1703 - accuracy: 0.9303 - val_loss: 0.6253 - val_accuracy: 0.8156\n",
            "Epoch 23/50\n",
            "625/625 [==============================] - 9s 14ms/step - loss: 0.1639 - accuracy: 0.9344 - val_loss: 0.6264 - val_accuracy: 0.8128\n",
            "Epoch 24/50\n",
            "625/625 [==============================] - 9s 14ms/step - loss: 0.1546 - accuracy: 0.9374 - val_loss: 0.6970 - val_accuracy: 0.8104\n",
            "Epoch 25/50\n",
            "625/625 [==============================] - 9s 14ms/step - loss: 0.1490 - accuracy: 0.9395 - val_loss: 0.7128 - val_accuracy: 0.8146\n",
            "Epoch 26/50\n",
            "625/625 [==============================] - 9s 14ms/step - loss: 0.1424 - accuracy: 0.9412 - val_loss: 0.8112 - val_accuracy: 0.8077\n",
            "Epoch 27/50\n",
            "625/625 [==============================] - 9s 14ms/step - loss: 0.1344 - accuracy: 0.9456 - val_loss: 0.8146 - val_accuracy: 0.8080\n",
            "Epoch 28/50\n",
            "625/625 [==============================] - 9s 14ms/step - loss: 0.1293 - accuracy: 0.9460 - val_loss: 0.8128 - val_accuracy: 0.8111\n",
            "Epoch 29/50\n",
            "625/625 [==============================] - 9s 14ms/step - loss: 0.1225 - accuracy: 0.9499 - val_loss: 0.9694 - val_accuracy: 0.8077\n",
            "Epoch 30/50\n",
            "625/625 [==============================] - 9s 14ms/step - loss: 0.1186 - accuracy: 0.9517 - val_loss: 0.8820 - val_accuracy: 0.8049\n",
            "Epoch 31/50\n",
            "625/625 [==============================] - 9s 14ms/step - loss: 0.1096 - accuracy: 0.9552 - val_loss: 0.9898 - val_accuracy: 0.8073\n",
            "Epoch 32/50\n",
            "625/625 [==============================] - 9s 14ms/step - loss: 0.1050 - accuracy: 0.9564 - val_loss: 1.1373 - val_accuracy: 0.8038\n",
            "Epoch 33/50\n",
            "625/625 [==============================] - 9s 14ms/step - loss: 0.1030 - accuracy: 0.9574 - val_loss: 1.1969 - val_accuracy: 0.8043\n",
            "Epoch 34/50\n",
            "625/625 [==============================] - 9s 14ms/step - loss: 0.1045 - accuracy: 0.9579 - val_loss: 1.0580 - val_accuracy: 0.7995\n",
            "Epoch 35/50\n",
            "625/625 [==============================] - 9s 14ms/step - loss: 0.0945 - accuracy: 0.9610 - val_loss: 1.1310 - val_accuracy: 0.8028\n",
            "Epoch 36/50\n",
            "625/625 [==============================] - 9s 14ms/step - loss: 0.0898 - accuracy: 0.9625 - val_loss: 1.1682 - val_accuracy: 0.8065\n",
            "Epoch 37/50\n",
            "625/625 [==============================] - 10s 15ms/step - loss: 0.0883 - accuracy: 0.9637 - val_loss: 1.2419 - val_accuracy: 0.8053\n",
            "Epoch 38/50\n",
            "625/625 [==============================] - 9s 14ms/step - loss: 0.0825 - accuracy: 0.9653 - val_loss: 1.3076 - val_accuracy: 0.8001\n",
            "Epoch 39/50\n",
            "625/625 [==============================] - 9s 14ms/step - loss: 0.0783 - accuracy: 0.9667 - val_loss: 1.3508 - val_accuracy: 0.8009\n",
            "Epoch 40/50\n",
            "625/625 [==============================] - 9s 14ms/step - loss: 0.0792 - accuracy: 0.9672 - val_loss: 1.5587 - val_accuracy: 0.7988\n",
            "Epoch 41/50\n",
            "625/625 [==============================] - 9s 14ms/step - loss: 0.0751 - accuracy: 0.9679 - val_loss: 1.4856 - val_accuracy: 0.8034\n",
            "Epoch 42/50\n",
            "625/625 [==============================] - 9s 14ms/step - loss: 0.0717 - accuracy: 0.9699 - val_loss: 1.3829 - val_accuracy: 0.8076\n",
            "Epoch 43/50\n",
            "625/625 [==============================] - 9s 14ms/step - loss: 0.0716 - accuracy: 0.9707 - val_loss: 1.5031 - val_accuracy: 0.8012\n",
            "Epoch 44/50\n",
            "625/625 [==============================] - 9s 14ms/step - loss: 0.0662 - accuracy: 0.9714 - val_loss: 1.5671 - val_accuracy: 0.7965\n",
            "Epoch 45/50\n",
            "625/625 [==============================] - 9s 14ms/step - loss: 0.0624 - accuracy: 0.9733 - val_loss: 1.8441 - val_accuracy: 0.8000\n",
            "Epoch 46/50\n",
            "625/625 [==============================] - 9s 14ms/step - loss: 0.0640 - accuracy: 0.9729 - val_loss: 1.6655 - val_accuracy: 0.8052\n",
            "Epoch 47/50\n",
            "625/625 [==============================] - 9s 14ms/step - loss: 0.0611 - accuracy: 0.9735 - val_loss: 1.7367 - val_accuracy: 0.7964\n",
            "Epoch 48/50\n",
            "625/625 [==============================] - 9s 14ms/step - loss: 0.0624 - accuracy: 0.9743 - val_loss: 1.6335 - val_accuracy: 0.8022\n",
            "Epoch 49/50\n",
            "625/625 [==============================] - 9s 14ms/step - loss: 0.0600 - accuracy: 0.9750 - val_loss: 1.7832 - val_accuracy: 0.7937\n",
            "Epoch 50/50\n",
            "625/625 [==============================] - 9s 14ms/step - loss: 0.0587 - accuracy: 0.9744 - val_loss: 1.8080 - val_accuracy: 0.7992\n"
          ],
          "name": "stdout"
        }
      ]
    },
    {
      "cell_type": "code",
      "metadata": {
        "id": "g9DC6dmLF8DC",
        "outputId": "fc5f0716-d855-45de-a4c2-7e5b9b48b4e7",
        "colab": {
          "base_uri": "https://localhost:8080/",
          "height": 541
        }
      },
      "source": [
        "import matplotlib.pyplot as plt\n",
        "\n",
        "\n",
        "def plot_graphs(history, string):\n",
        "  plt.plot(history.history[string])\n",
        "  plt.plot(history.history['val_'+string])\n",
        "  plt.xlabel(\"Epochs\")\n",
        "  plt.ylabel(string)\n",
        "  plt.legend([string, 'val_'+string])\n",
        "  plt.show()\n",
        "\n",
        "plot_graphs(history, 'accuracy')\n",
        "plot_graphs(history, 'loss')"
      ],
      "execution_count": null,
      "outputs": [
        {
          "output_type": "display_data",
          "data": {
            "image/png": "[encoded data removed]",
            "text/plain": [
              "<Figure size 432x288 with 1 Axes>"
            ]
          },
          "metadata": {
            "tags": [],
            "needs_background": "light"
          }
        },
        {
          "output_type": "display_data",
          "data": {
            "image/png": "[encoded data removed]",
            "text/plain": [
              "<Figure size 432x288 with 1 Axes>"
            ]
          },
          "metadata": {
            "tags": [],
            "needs_background": "light"
          }
        }
      ]
    },
    {
      "cell_type": "code",
      "metadata": {
        "id": "7ZEZIUppGhdi"
      },
      "source": [
        "model.save(\"test.h5\")"
      ],
      "execution_count": null,
      "outputs": []
    }
  ]
}