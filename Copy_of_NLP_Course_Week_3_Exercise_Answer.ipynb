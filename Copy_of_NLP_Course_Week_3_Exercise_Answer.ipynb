{
  "nbformat": 4,
  "nbformat_minor": 0,
  "metadata": {
    "accelerator": "GPU",
    "colab": {
      "name": "Copy of NLP Course - Week 3 Exercise Answer.ipynb",
      "provenance": [],
      "collapsed_sections": [],
      "toc_visible": true,
      "include_colab_link": true
    },
    "kernelspec": {
      "display_name": "Python 3",
      "language": "python",
      "name": "python3"
    },
    "language_info": {
      "codemirror_mode": {
        "name": "ipython",
        "version": 3
      },
      "file_extension": ".py",
      "mimetype": "text/x-python",
      "name": "python",
      "nbconvert_exporter": "python",
      "pygments_lexer": "ipython3",
      "version": "3.7.6"
    }
  },
  "cells": [
    {
      "cell_type": "markdown",
      "metadata": {
        "id": "view-in-github",
        "colab_type": "text"
      },
      "source": [
        "<a href=\"https://colab.research.google.com/github/singh97kishan/TensorFlow/blob/main/Copy_of_NLP_Course_Week_3_Exercise_Answer.ipynb\" target=\"_parent\"><img src=\"https://colab.research.google.com/assets/colab-badge.svg\" alt=\"Open In Colab\"/></a>"
      ]
    },
    {
      "cell_type": "code",
      "metadata": {
        "id": "zX4Kg8DUTKWO"
      },
      "source": [
        "#@title Licensed under the Apache License, Version 2.0 (the \"License\");\n",
        "# you may not use this file except in compliance with the License.\n",
        "# You may obtain a copy of the License at\n",
        "#\n",
        "# https://www.apache.org/licenses/LICENSE-2.0\n",
        "#\n",
        "# Unless required by applicable law or agreed to in writing, software\n",
        "# distributed under the License is distributed on an \"AS IS\" BASIS,\n",
        "# WITHOUT WARRANTIES OR CONDITIONS OF ANY KIND, either express or implied.\n",
        "# See the License for the specific language governing permissions and\n",
        "# limitations under the License."
      ],
      "execution_count": 1,
      "outputs": []
    },
    {
      "cell_type": "markdown",
      "metadata": {
        "id": "2aeDnBAUytpu"
      },
      "source": [
        "<a href=\"https://colab.research.google.com/github/lmoroney/dlaicourse/blob/master/TensorFlow%20In%20Practice/Course%203%20-%20NLP/NLP%20Course%20-%20Week%203%20Exercise%20Answer.ipynb\" target=\"_parent\"><img src=\"https://colab.research.google.com/assets/colab-badge.svg\" alt=\"Open In Colab\"/></a>"
      ]
    },
    {
      "cell_type": "code",
      "metadata": {
        "id": "hmA6EzkQJ5jt"
      },
      "source": [
        "import json\n",
        "import tensorflow as tf\n",
        "import csv\n",
        "import random\n",
        "import numpy as np\n",
        "\n",
        "from tensorflow.keras.preprocessing.text import Tokenizer\n",
        "from tensorflow.keras.preprocessing.sequence import pad_sequences\n",
        "from tensorflow.keras.utils import to_categorical\n",
        "from tensorflow.keras import regularizers\n",
        "\n",
        "\n",
        "embedding_dim = 100\n",
        "max_length = 16\n",
        "trunc_type='post'\n",
        "padding_type='post'\n",
        "oov_tok = \"<OOV>\"\n",
        "training_size=160000\n",
        "test_portion=.1\n",
        "\n",
        "corpus = []\n"
      ],
      "execution_count": 2,
      "outputs": []
    },
    {
      "cell_type": "code",
      "metadata": {
        "id": "bM0l_dORKqE0",
        "outputId": "b47aacbb-8ace-4268-a4b6-79787143d63f",
        "colab": {
          "base_uri": "https://localhost:8080/",
          "height": 204
        }
      },
      "source": [
        "# Note that I cleaned the Stanford dataset to remove LATIN1 encoding to make it easier for Python CSV reader\n",
        "# You can do that yourself with:\n",
        "# iconv -f LATIN1 -t UTF8 training.1600000.processed.noemoticon.csv -o training_cleaned.csv\n",
        "# I then hosted it on my site to make it easier to use in this notebook\n",
        "\n",
        "!wget --no-check-certificate \\\n",
        "    https://storage.googleapis.com/laurencemoroney-blog.appspot.com/training_cleaned.csv \\\n",
        "    -O /tmp/training_cleaned.csv\n",
        "\n",
        "num_sentences = 0\n",
        "\n",
        "with open(\"/tmp/training_cleaned.csv\") as csvfile:\n",
        "    reader = csv.reader(csvfile, delimiter=',')\n",
        "    for row in reader:\n",
        "        list_item=[]\n",
        "        list_item.append(row[5])\n",
        "        this_label=row[0]\n",
        "        if this_label=='0':\n",
        "            list_item.append(0)\n",
        "        else:\n",
        "            list_item.append(1)\n",
        "        num_sentences = num_sentences + 1\n",
        "        corpus.append(list_item)\n"
      ],
      "execution_count": 3,
      "outputs": [
        {
          "output_type": "stream",
          "text": [
            "--2020-10-14 06:42:10--  https://storage.googleapis.com/laurencemoroney-blog.appspot.com/training_cleaned.csv\n",
            "Resolving storage.googleapis.com (storage.googleapis.com)... 108.177.97.128, 108.177.125.128, 74.125.203.128, ...\n",
            "Connecting to storage.googleapis.com (storage.googleapis.com)|108.177.97.128|:443... connected.\n",
            "HTTP request sent, awaiting response... 200 OK\n",
            "Length: 238942690 (228M) [application/octet-stream]\n",
            "Saving to: ‘/tmp/training_cleaned.csv’\n",
            "\n",
            "/tmp/training_clean 100%[===================>] 227.87M  65.6MB/s    in 3.5s    \n",
            "\n",
            "2020-10-14 06:42:14 (65.6 MB/s) - ‘/tmp/training_cleaned.csv’ saved [238942690/238942690]\n",
            "\n"
          ],
          "name": "stdout"
        }
      ]
    },
    {
      "cell_type": "code",
      "metadata": {
        "id": "3kxblBUjEUX-",
        "outputId": "2a7eaa9f-a3cc-4bcb-fcfe-5196eb222e66",
        "colab": {
          "base_uri": "https://localhost:8080/",
          "height": 68
        }
      },
      "source": [
        "print(num_sentences)\n",
        "print(len(corpus))\n",
        "print(corpus[1])\n",
        "\n",
        "# Expected Output:\n",
        "# 1600000\n",
        "# 1600000\n",
        "# [\"is upset that he can't update his Facebook by texting it... and might cry as a result  School today also. Blah!\", 0]"
      ],
      "execution_count": 4,
      "outputs": [
        {
          "output_type": "stream",
          "text": [
            "1600000\n",
            "1600000\n",
            "[\"is upset that he can't update his Facebook by texting it... and might cry as a result  School today also. Blah!\", 0]\n"
          ],
          "name": "stdout"
        }
      ]
    },
    {
      "cell_type": "code",
      "metadata": {
        "id": "ohOGz24lsNAD"
      },
      "source": [
        "sentences=[]\n",
        "labels=[]\n",
        "random.shuffle(corpus)\n",
        "for x in range(training_size):\n",
        "    sentences.append(corpus[x][0])\n",
        "    labels.append(corpus[x][1])\n",
        "\n",
        "\n",
        "tokenizer = Tokenizer()\n",
        "tokenizer.fit_on_texts(sentences)\n",
        "\n",
        "word_index = tokenizer.word_index\n",
        "vocab_size=len(word_index)\n",
        "\n",
        "sequences = tokenizer.texts_to_sequences(sentences)\n",
        "padded = pad_sequences(sequences, maxlen=max_length, padding=padding_type, truncating=trunc_type)\n",
        "\n",
        "split = int(test_portion * training_size)\n",
        "\n",
        "test_sequences = padded[0:split]\n",
        "training_sequences = padded[split:training_size]\n",
        "test_labels = labels[0:split]\n",
        "training_labels = labels[split:training_size]"
      ],
      "execution_count": 5,
      "outputs": []
    },
    {
      "cell_type": "code",
      "metadata": {
        "id": "gIrtRem1En3N",
        "outputId": "e9936715-59fd-432b-8af6-b3bef8fbefca",
        "colab": {
          "base_uri": "https://localhost:8080/",
          "height": 51
        }
      },
      "source": [
        "print(vocab_size)\n",
        "print(word_index['i'])\n",
        "# Expected Output\n",
        "# 138858\n",
        "# 1"
      ],
      "execution_count": 6,
      "outputs": [
        {
          "output_type": "stream",
          "text": [
            "138428\n",
            "1\n"
          ],
          "name": "stdout"
        }
      ]
    },
    {
      "cell_type": "code",
      "metadata": {
        "id": "C1zdgJkusRh0",
        "outputId": "8a045d16-2bb2-4baf-e82a-119466a833e5",
        "colab": {
          "base_uri": "https://localhost:8080/",
          "height": 204
        }
      },
      "source": [
        "# Note this is the 100 dimension version of GloVe from Stanford\n",
        "# I unzipped and hosted it on my site to make this notebook easier\n",
        "!wget --no-check-certificate \\\n",
        "    https://storage.googleapis.com/laurencemoroney-blog.appspot.com/glove.6B.100d.txt \\\n",
        "    -O /tmp/glove.6B.100d.txt\n",
        "embeddings_index = {};\n",
        "with open('/tmp/glove.6B.100d.txt') as f:\n",
        "    for line in f:\n",
        "        values = line.split();\n",
        "        word = values[0];\n",
        "        coefs = np.asarray(values[1:], dtype='float32');\n",
        "        embeddings_index[word] = coefs;\n",
        "\n",
        "embeddings_matrix = np.zeros((vocab_size+1, embedding_dim));\n",
        "for word, i in word_index.items():\n",
        "    embedding_vector = embeddings_index.get(word);\n",
        "    if embedding_vector is not None:\n",
        "        embeddings_matrix[i] = embedding_vector;"
      ],
      "execution_count": 7,
      "outputs": [
        {
          "output_type": "stream",
          "text": [
            "--2020-10-14 06:42:26--  https://storage.googleapis.com/laurencemoroney-blog.appspot.com/glove.6B.100d.txt\n",
            "Resolving storage.googleapis.com (storage.googleapis.com)... 64.233.189.128, 108.177.97.128, 74.125.203.128, ...\n",
            "Connecting to storage.googleapis.com (storage.googleapis.com)|64.233.189.128|:443... connected.\n",
            "HTTP request sent, awaiting response... 200 OK\n",
            "Length: 347116733 (331M) [text/plain]\n",
            "Saving to: ‘/tmp/glove.6B.100d.txt’\n",
            "\n",
            "/tmp/glove.6B.100d. 100%[===================>] 331.04M   114MB/s    in 2.9s    \n",
            "\n",
            "2020-10-14 06:42:29 (114 MB/s) - ‘/tmp/glove.6B.100d.txt’ saved [347116733/347116733]\n",
            "\n"
          ],
          "name": "stdout"
        }
      ]
    },
    {
      "cell_type": "code",
      "metadata": {
        "id": "71NLk_lpFLNt",
        "outputId": "26397c4e-4274-4472-b58e-5b2a04087c06",
        "colab": {
          "base_uri": "https://localhost:8080/",
          "height": 34
        }
      },
      "source": [
        "print(len(embeddings_matrix))\n",
        "# Expected Output\n",
        "# 138859"
      ],
      "execution_count": 8,
      "outputs": [
        {
          "output_type": "stream",
          "text": [
            "138429\n"
          ],
          "name": "stdout"
        }
      ]
    },
    {
      "cell_type": "code",
      "metadata": {
        "id": "iKKvbuEBOGFz",
        "outputId": "6df8800f-9699-46f2-a9b0-09133e0b9430",
        "colab": {
          "base_uri": "https://localhost:8080/",
          "height": 1000
        }
      },
      "source": [
        "model = tf.keras.Sequential([\n",
        "    tf.keras.layers.Embedding(vocab_size+1, embedding_dim, input_length=max_length, weights=[embeddings_matrix], trainable=False),\n",
        "    tf.keras.layers.Dropout(0.2),\n",
        "    tf.keras.layers.Conv1D(64, 5, activation='relu'),\n",
        "    tf.keras.layers.MaxPooling1D(pool_size=4),\n",
        "    tf.keras.layers.LSTM(64),\n",
        "    tf.keras.layers.Dense(1, activation='sigmoid')\n",
        "])\n",
        "model.compile(loss='binary_crossentropy',optimizer='adam',metrics=['accuracy'])\n",
        "model.summary()\n",
        "\n",
        "num_epochs = 50\n",
        "\n",
        "training_padded = np.array(training_sequences)\n",
        "training_labels = np.array(training_labels)\n",
        "testing_padded = np.array(test_sequences)\n",
        "testing_labels = np.array(test_labels)\n",
        "\n",
        "history = model.fit(training_padded, training_labels, epochs=num_epochs, validation_data=(testing_padded, testing_labels), verbose=2)\n",
        "\n",
        "print(\"Training Complete\")"
      ],
      "execution_count": 9,
      "outputs": [
        {
          "output_type": "stream",
          "text": [
            "Model: \"sequential\"\n",
            "_________________________________________________________________\n",
            "Layer (type)                 Output Shape              Param #   \n",
            "=================================================================\n",
            "embedding (Embedding)        (None, 16, 100)           13842900  \n",
            "_________________________________________________________________\n",
            "dropout (Dropout)            (None, 16, 100)           0         \n",
            "_________________________________________________________________\n",
            "conv1d (Conv1D)              (None, 12, 64)            32064     \n",
            "_________________________________________________________________\n",
            "max_pooling1d (MaxPooling1D) (None, 3, 64)             0         \n",
            "_________________________________________________________________\n",
            "lstm (LSTM)                  (None, 64)                33024     \n",
            "_________________________________________________________________\n",
            "dense (Dense)                (None, 1)                 65        \n",
            "=================================================================\n",
            "Total params: 13,908,053\n",
            "Trainable params: 65,153\n",
            "Non-trainable params: 13,842,900\n",
            "_________________________________________________________________\n",
            "Epoch 1/50\n",
            "4500/4500 - 15s - loss: 0.5691 - accuracy: 0.6970 - val_loss: 0.5388 - val_accuracy: 0.7228\n",
            "Epoch 2/50\n",
            "4500/4500 - 14s - loss: 0.5300 - accuracy: 0.7304 - val_loss: 0.5250 - val_accuracy: 0.7326\n",
            "Epoch 3/50\n",
            "4500/4500 - 14s - loss: 0.5120 - accuracy: 0.7429 - val_loss: 0.5209 - val_accuracy: 0.7396\n",
            "Epoch 4/50\n",
            "4500/4500 - 15s - loss: 0.5009 - accuracy: 0.7506 - val_loss: 0.5123 - val_accuracy: 0.7456\n",
            "Epoch 5/50\n",
            "4500/4500 - 14s - loss: 0.4922 - accuracy: 0.7565 - val_loss: 0.5093 - val_accuracy: 0.7484\n",
            "Epoch 6/50\n",
            "4500/4500 - 14s - loss: 0.4851 - accuracy: 0.7610 - val_loss: 0.5126 - val_accuracy: 0.7487\n",
            "Epoch 7/50\n",
            "4500/4500 - 14s - loss: 0.4782 - accuracy: 0.7650 - val_loss: 0.5138 - val_accuracy: 0.7473\n",
            "Epoch 8/50\n",
            "4500/4500 - 14s - loss: 0.4727 - accuracy: 0.7698 - val_loss: 0.5128 - val_accuracy: 0.7479\n",
            "Epoch 9/50\n",
            "4500/4500 - 14s - loss: 0.4694 - accuracy: 0.7708 - val_loss: 0.5191 - val_accuracy: 0.7469\n",
            "Epoch 10/50\n",
            "4500/4500 - 14s - loss: 0.4648 - accuracy: 0.7735 - val_loss: 0.5125 - val_accuracy: 0.7508\n",
            "Epoch 11/50\n",
            "4500/4500 - 14s - loss: 0.4607 - accuracy: 0.7762 - val_loss: 0.5145 - val_accuracy: 0.7461\n",
            "Epoch 12/50\n",
            "4500/4500 - 14s - loss: 0.4579 - accuracy: 0.7791 - val_loss: 0.5197 - val_accuracy: 0.7466\n",
            "Epoch 13/50\n",
            "4500/4500 - 14s - loss: 0.4557 - accuracy: 0.7791 - val_loss: 0.5133 - val_accuracy: 0.7476\n",
            "Epoch 14/50\n",
            "4500/4500 - 14s - loss: 0.4543 - accuracy: 0.7814 - val_loss: 0.5151 - val_accuracy: 0.7454\n",
            "Epoch 15/50\n",
            "4500/4500 - 14s - loss: 0.4515 - accuracy: 0.7825 - val_loss: 0.5150 - val_accuracy: 0.7479\n",
            "Epoch 16/50\n",
            "4500/4500 - 14s - loss: 0.4496 - accuracy: 0.7836 - val_loss: 0.5211 - val_accuracy: 0.7471\n",
            "Epoch 17/50\n",
            "4500/4500 - 14s - loss: 0.4474 - accuracy: 0.7848 - val_loss: 0.5187 - val_accuracy: 0.7456\n",
            "Epoch 18/50\n",
            "4500/4500 - 14s - loss: 0.4450 - accuracy: 0.7869 - val_loss: 0.5279 - val_accuracy: 0.7440\n",
            "Epoch 19/50\n",
            "4500/4500 - 14s - loss: 0.4444 - accuracy: 0.7877 - val_loss: 0.5224 - val_accuracy: 0.7489\n",
            "Epoch 20/50\n",
            "4500/4500 - 14s - loss: 0.4432 - accuracy: 0.7868 - val_loss: 0.5243 - val_accuracy: 0.7449\n",
            "Epoch 21/50\n",
            "4500/4500 - 14s - loss: 0.4418 - accuracy: 0.7886 - val_loss: 0.5257 - val_accuracy: 0.7481\n",
            "Epoch 22/50\n",
            "4500/4500 - 14s - loss: 0.4419 - accuracy: 0.7882 - val_loss: 0.5319 - val_accuracy: 0.7437\n",
            "Epoch 23/50\n",
            "4500/4500 - 14s - loss: 0.4398 - accuracy: 0.7901 - val_loss: 0.5277 - val_accuracy: 0.7445\n",
            "Epoch 24/50\n",
            "4500/4500 - 14s - loss: 0.4382 - accuracy: 0.7909 - val_loss: 0.5331 - val_accuracy: 0.7426\n",
            "Epoch 25/50\n",
            "4500/4500 - 14s - loss: 0.4376 - accuracy: 0.7913 - val_loss: 0.5252 - val_accuracy: 0.7416\n",
            "Epoch 26/50\n",
            "4500/4500 - 15s - loss: 0.4368 - accuracy: 0.7906 - val_loss: 0.5287 - val_accuracy: 0.7423\n",
            "Epoch 27/50\n",
            "4500/4500 - 14s - loss: 0.4363 - accuracy: 0.7912 - val_loss: 0.5263 - val_accuracy: 0.7449\n",
            "Epoch 28/50\n",
            "4500/4500 - 14s - loss: 0.4343 - accuracy: 0.7930 - val_loss: 0.5263 - val_accuracy: 0.7449\n",
            "Epoch 29/50\n",
            "4500/4500 - 14s - loss: 0.4341 - accuracy: 0.7932 - val_loss: 0.5302 - val_accuracy: 0.7431\n",
            "Epoch 30/50\n",
            "4500/4500 - 14s - loss: 0.4343 - accuracy: 0.7923 - val_loss: 0.5246 - val_accuracy: 0.7441\n",
            "Epoch 31/50\n",
            "4500/4500 - 14s - loss: 0.4345 - accuracy: 0.7920 - val_loss: 0.5370 - val_accuracy: 0.7439\n",
            "Epoch 32/50\n",
            "4500/4500 - 14s - loss: 0.4338 - accuracy: 0.7932 - val_loss: 0.5234 - val_accuracy: 0.7440\n",
            "Epoch 33/50\n",
            "4500/4500 - 14s - loss: 0.4335 - accuracy: 0.7934 - val_loss: 0.5252 - val_accuracy: 0.7445\n",
            "Epoch 34/50\n",
            "4500/4500 - 14s - loss: 0.4320 - accuracy: 0.7940 - val_loss: 0.5301 - val_accuracy: 0.7411\n",
            "Epoch 35/50\n",
            "4500/4500 - 14s - loss: 0.4329 - accuracy: 0.7940 - val_loss: 0.5290 - val_accuracy: 0.7426\n",
            "Epoch 36/50\n",
            "4500/4500 - 14s - loss: 0.4301 - accuracy: 0.7956 - val_loss: 0.5310 - val_accuracy: 0.7402\n",
            "Epoch 37/50\n",
            "4500/4500 - 14s - loss: 0.4299 - accuracy: 0.7960 - val_loss: 0.5264 - val_accuracy: 0.7441\n",
            "Epoch 38/50\n",
            "4500/4500 - 14s - loss: 0.4310 - accuracy: 0.7950 - val_loss: 0.5342 - val_accuracy: 0.7478\n",
            "Epoch 39/50\n",
            "4500/4500 - 14s - loss: 0.4296 - accuracy: 0.7959 - val_loss: 0.5325 - val_accuracy: 0.7409\n",
            "Epoch 40/50\n",
            "4500/4500 - 14s - loss: 0.4294 - accuracy: 0.7964 - val_loss: 0.5354 - val_accuracy: 0.7427\n",
            "Epoch 41/50\n",
            "4500/4500 - 14s - loss: 0.4298 - accuracy: 0.7957 - val_loss: 0.5389 - val_accuracy: 0.7430\n",
            "Epoch 42/50\n",
            "4500/4500 - 14s - loss: 0.4278 - accuracy: 0.7967 - val_loss: 0.5398 - val_accuracy: 0.7386\n",
            "Epoch 43/50\n",
            "4500/4500 - 14s - loss: 0.4284 - accuracy: 0.7966 - val_loss: 0.5415 - val_accuracy: 0.7413\n",
            "Epoch 44/50\n",
            "4500/4500 - 14s - loss: 0.4289 - accuracy: 0.7956 - val_loss: 0.5309 - val_accuracy: 0.7421\n",
            "Epoch 45/50\n",
            "4500/4500 - 14s - loss: 0.4264 - accuracy: 0.7978 - val_loss: 0.5378 - val_accuracy: 0.7450\n",
            "Epoch 46/50\n",
            "4500/4500 - 14s - loss: 0.4274 - accuracy: 0.7970 - val_loss: 0.5352 - val_accuracy: 0.7416\n",
            "Epoch 47/50\n",
            "4500/4500 - 14s - loss: 0.4291 - accuracy: 0.7956 - val_loss: 0.5357 - val_accuracy: 0.7413\n",
            "Epoch 48/50\n",
            "4500/4500 - 14s - loss: 0.4272 - accuracy: 0.7976 - val_loss: 0.5330 - val_accuracy: 0.7423\n",
            "Epoch 49/50\n",
            "4500/4500 - 15s - loss: 0.4283 - accuracy: 0.7975 - val_loss: 0.5359 - val_accuracy: 0.7396\n",
            "Epoch 50/50\n",
            "4500/4500 - 14s - loss: 0.4271 - accuracy: 0.7978 - val_loss: 0.5373 - val_accuracy: 0.7432\n",
            "Training Complete\n"
          ],
          "name": "stdout"
        }
      ]
    },
    {
      "cell_type": "code",
      "metadata": {
        "id": "qxju4ItJKO8F",
        "outputId": "b94f82fc-e8b7-40ad-b3ad-9077aa5645d4",
        "colab": {
          "base_uri": "https://localhost:8080/",
          "height": 607
        }
      },
      "source": [
        "import matplotlib.image  as mpimg\n",
        "import matplotlib.pyplot as plt\n",
        "\n",
        "#-----------------------------------------------------------\n",
        "# Retrieve a list of list results on training and test data\n",
        "# sets for each training epoch\n",
        "#-----------------------------------------------------------\n",
        "acc=history.history['accuracy']\n",
        "val_acc=history.history['val_accuracy']\n",
        "loss=history.history['loss']\n",
        "val_loss=history.history['val_loss']\n",
        "\n",
        "epochs=range(len(acc)) # Get number of epochs\n",
        "\n",
        "#------------------------------------------------\n",
        "# Plot training and validation accuracy per epoch\n",
        "#------------------------------------------------\n",
        "plt.plot(epochs, acc, 'r')\n",
        "plt.plot(epochs, val_acc, 'b')\n",
        "plt.title('Training and validation accuracy')\n",
        "plt.xlabel(\"Epochs\")\n",
        "plt.ylabel(\"Accuracy\")\n",
        "plt.legend([\"Accuracy\", \"Validation Accuracy\"])\n",
        "\n",
        "plt.figure()\n",
        "\n",
        "#------------------------------------------------\n",
        "# Plot training and validation loss per epoch\n",
        "#------------------------------------------------\n",
        "plt.plot(epochs, loss, 'r')\n",
        "plt.plot(epochs, val_loss, 'b')\n",
        "plt.title('Training and validation loss')\n",
        "plt.xlabel(\"Epochs\")\n",
        "plt.ylabel(\"Loss\")\n",
        "plt.legend([\"Loss\", \"Validation Loss\"])\n",
        "\n",
        "plt.figure()\n",
        "\n",
        "\n",
        "# Expected Output\n",
        "# A chart where the validation loss does not increase sharply!"
      ],
      "execution_count": 10,
      "outputs": [
        {
          "output_type": "execute_result",
          "data": {
            "text/plain": [
              "<Figure size 432x288 with 0 Axes>"
            ]
          },
          "metadata": {
            "tags": []
          },
          "execution_count": 10
        },
        {
          "output_type": "display_data",
          "data": {
            "image/png": "[encoded data removed]",
            "text/plain": [
              "<Figure size 432x288 with 1 Axes>"
            ]
          },
          "metadata": {
            "tags": [],
            "needs_background": "light"
          }
        },
        {
          "output_type": "display_data",
          "data": {
            "image/png": "[encoded data removed]",
            "text/plain": [
              "<Figure size 432x288 with 1 Axes>"
            ]
          },
          "metadata": {
            "tags": [],
            "needs_background": "light"
          }
        },
        {
          "output_type": "display_data",
          "data": {
            "text/plain": [
              "<Figure size 432x288 with 0 Axes>"
            ]
          },
          "metadata": {
            "tags": []
          }
        }
      ]
    }
  ]
}