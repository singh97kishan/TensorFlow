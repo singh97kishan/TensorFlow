{
  "nbformat": 4,
  "nbformat_minor": 0,
  "metadata": {
    "accelerator": "GPU",
    "colab": {
      "name": "Copy of NLP_Week4_Exercise_Shakespeare_Question.ipynb",
      "provenance": [],
      "toc_visible": true,
      "include_colab_link": true
    },
    "kernelspec": {
      "display_name": "Python 3",
      "name": "python3"
    }
  },
  "cells": [
    {
      "cell_type": "markdown",
      "metadata": {
        "id": "view-in-github",
        "colab_type": "text"
      },
      "source": [
        "<a href=\"https://colab.research.google.com/github/singh97kishan/TensorFlow/blob/main/Copy_of_NLP_Week4_Exercise_Shakespeare_Question.ipynb\" target=\"_parent\"><img src=\"https://colab.research.google.com/assets/colab-badge.svg\" alt=\"Open In Colab\"/></a>"
      ]
    },
    {
      "cell_type": "code",
      "metadata": {
        "id": "zX4Kg8DUTKWO"
      },
      "source": [
        "#@title Licensed under the Apache License, Version 2.0 (the \"License\");\n",
        "# you may not use this file except in compliance with the License.\n",
        "# You may obtain a copy of the License at\n",
        "#\n",
        "# https://www.apache.org/licenses/LICENSE-2.0\n",
        "#\n",
        "# Unless required by applicable law or agreed to in writing, software\n",
        "# distributed under the License is distributed on an \"AS IS\" BASIS,\n",
        "# WITHOUT WARRANTIES OR CONDITIONS OF ANY KIND, either express or implied.\n",
        "# See the License for the specific language governing permissions and\n",
        "# limitations under the License."
      ],
      "execution_count": null,
      "outputs": []
    },
    {
      "cell_type": "code",
      "metadata": {
        "id": "BOwsuGQQY9OL"
      },
      "source": [
        "from tensorflow.keras.preprocessing.sequence import pad_sequences\n",
        "from tensorflow.keras.layers import Embedding, LSTM, Dense, Dropout, Bidirectional\n",
        "from tensorflow.keras.preprocessing.text import Tokenizer\n",
        "from tensorflow.keras.models import Sequential\n",
        "from tensorflow.keras.optimizers import Adam\n",
        "### YOUR CODE HERE\n",
        "from tensorflow.keras import regularizers\n",
        "###\n",
        "import tensorflow.keras.utils as ku \n",
        "import numpy as np "
      ],
      "execution_count": null,
      "outputs": []
    },
    {
      "cell_type": "code",
      "metadata": {
        "id": "PRnDnCW-Z7qv",
        "outputId": "a7cd14b9-6232-40da-eeb1-463fafb0c75b",
        "colab": {
          "base_uri": "https://localhost:8080/",
          "height": 204
        }
      },
      "source": [
        "tokenizer = Tokenizer()\n",
        "!wget --no-check-certificate \\\n",
        "    https://storage.googleapis.com/laurencemoroney-blog.appspot.com/sonnets.txt \\\n",
        "    -O /tmp/sonnets.txt\n",
        "data = open('/tmp/sonnets.txt').read()\n",
        "\n",
        "corpus = data.lower().split(\"\\n\")\n",
        "\n",
        "\n",
        "tokenizer.fit_on_texts(corpus)\n",
        "total_words = len(tokenizer.word_index) + 1\n",
        "\n",
        "# create input sequences using list of tokens\n",
        "input_sequences = []\n",
        "for line in corpus:\n",
        "\ttoken_list = tokenizer.texts_to_sequences([line])[0]\n",
        "\tfor i in range(1, len(token_list)):\n",
        "\t\tn_gram_sequence = token_list[:i+1]\n",
        "\t\tinput_sequences.append(n_gram_sequence)\n",
        "\n",
        "\n",
        "# pad sequences \n",
        "max_sequence_len = max([len(x) for x in input_sequences])\n",
        "input_sequences = np.array(pad_sequences(input_sequences, maxlen=max_sequence_len, padding='pre'))\n",
        "\n",
        "# create predictors and label\n",
        "predictors, label = input_sequences[:,:-1],input_sequences[:,-1]\n",
        "\n",
        "label = ku.to_categorical(label, num_classes=total_words)"
      ],
      "execution_count": null,
      "outputs": [
        {
          "output_type": "stream",
          "text": [
            "--2020-10-14 13:36:20--  https://storage.googleapis.com/laurencemoroney-blog.appspot.com/sonnets.txt\n",
            "Resolving storage.googleapis.com (storage.googleapis.com)... 74.125.133.128, 108.177.15.128, 173.194.76.128, ...\n",
            "Connecting to storage.googleapis.com (storage.googleapis.com)|74.125.133.128|:443... connected.\n",
            "HTTP request sent, awaiting response... 200 OK\n",
            "Length: 93578 (91K) [text/plain]\n",
            "Saving to: ‘/tmp/sonnets.txt’\n",
            "\n",
            "/tmp/sonnets.txt    100%[===================>]  91.38K  --.-KB/s    in 0.001s  \n",
            "\n",
            "2020-10-14 13:36:20 (92.8 MB/s) - ‘/tmp/sonnets.txt’ saved [93578/93578]\n",
            "\n"
          ],
          "name": "stdout"
        }
      ]
    },
    {
      "cell_type": "code",
      "metadata": {
        "id": "w9vH8Y59ajYL",
        "outputId": "be5e290a-d793-461a-edcf-5afc18815ec6",
        "colab": {
          "base_uri": "https://localhost:8080/",
          "height": 374
        }
      },
      "source": [
        "model = Sequential()\n",
        "model.add(Embedding(total_words , 100 , input_length=max_sequence_len-1))\n",
        "model.add(Bidirectional(LSTM(150,return_sequences=True)))\n",
        "model.add(Dropout(0.2))\n",
        "model.add(Bidirectional(LSTM(100)))\n",
        "model.add(Dense(total_words/2 , activation='relu' , kernel_regularizer=regularizers.l2(0.01)))\n",
        "model.add(Dense(total_words , activation='softmax'))\n",
        "model.compile(loss= 'categorical_crossentropy' , optimizer = 'adam' , metrics=['accuracy'])\n",
        "print(model.summary())\n"
      ],
      "execution_count": null,
      "outputs": [
        {
          "output_type": "stream",
          "text": [
            "Model: \"sequential_1\"\n",
            "_________________________________________________________________\n",
            "Layer (type)                 Output Shape              Param #   \n",
            "=================================================================\n",
            "embedding_1 (Embedding)      (None, 10, 100)           321100    \n",
            "_________________________________________________________________\n",
            "bidirectional_2 (Bidirection (None, 10, 300)           301200    \n",
            "_________________________________________________________________\n",
            "dropout_1 (Dropout)          (None, 10, 300)           0         \n",
            "_________________________________________________________________\n",
            "bidirectional_3 (Bidirection (None, 200)               320800    \n",
            "_________________________________________________________________\n",
            "dense_2 (Dense)              (None, 1605)              322605    \n",
            "_________________________________________________________________\n",
            "dense_3 (Dense)              (None, 3211)              5156866   \n",
            "=================================================================\n",
            "Total params: 6,422,571\n",
            "Trainable params: 6,422,571\n",
            "Non-trainable params: 0\n",
            "_________________________________________________________________\n",
            "None\n"
          ],
          "name": "stdout"
        }
      ]
    },
    {
      "cell_type": "code",
      "metadata": {
        "id": "AIg2f1HBxqof",
        "outputId": "f689a2d0-3ecf-4aba-96a1-832de5c3564d",
        "colab": {
          "base_uri": "https://localhost:8080/",
          "height": 1000
        }
      },
      "source": [
        " history = model.fit(predictors, label, epochs=100, verbose=1)"
      ],
      "execution_count": null,
      "outputs": [
        {
          "output_type": "stream",
          "text": [
            "Epoch 1/100\n",
            "484/484 [==============================] - 15s 31ms/step - loss: 6.9991 - accuracy: 0.0200\n",
            "Epoch 2/100\n",
            "484/484 [==============================] - 15s 31ms/step - loss: 6.5231 - accuracy: 0.0219\n",
            "Epoch 3/100\n",
            "484/484 [==============================] - 15s 31ms/step - loss: 6.4190 - accuracy: 0.0231\n",
            "Epoch 4/100\n",
            "484/484 [==============================] - 15s 31ms/step - loss: 6.3182 - accuracy: 0.0274\n",
            "Epoch 5/100\n",
            "484/484 [==============================] - 15s 31ms/step - loss: 6.2056 - accuracy: 0.0309\n",
            "Epoch 6/100\n",
            "484/484 [==============================] - 15s 31ms/step - loss: 6.1101 - accuracy: 0.0352\n",
            "Epoch 7/100\n",
            "484/484 [==============================] - 15s 31ms/step - loss: 6.0170 - accuracy: 0.0384\n",
            "Epoch 8/100\n",
            "484/484 [==============================] - 15s 31ms/step - loss: 5.9263 - accuracy: 0.0427\n",
            "Epoch 9/100\n",
            "484/484 [==============================] - 15s 31ms/step - loss: 5.8259 - accuracy: 0.0498\n",
            "Epoch 10/100\n",
            "484/484 [==============================] - 15s 31ms/step - loss: 5.7217 - accuracy: 0.0563\n",
            "Epoch 11/100\n",
            "484/484 [==============================] - 15s 31ms/step - loss: 5.6252 - accuracy: 0.0635\n",
            "Epoch 12/100\n",
            "484/484 [==============================] - 15s 31ms/step - loss: 5.5328 - accuracy: 0.0687\n",
            "Epoch 13/100\n",
            "484/484 [==============================] - 15s 31ms/step - loss: 5.4391 - accuracy: 0.0746\n",
            "Epoch 14/100\n",
            "484/484 [==============================] - 15s 31ms/step - loss: 5.3449 - accuracy: 0.0831\n",
            "Epoch 15/100\n",
            "484/484 [==============================] - 15s 31ms/step - loss: 5.2550 - accuracy: 0.0914\n",
            "Epoch 16/100\n",
            "484/484 [==============================] - 15s 31ms/step - loss: 5.1742 - accuracy: 0.0980\n",
            "Epoch 17/100\n",
            "484/484 [==============================] - 15s 31ms/step - loss: 5.0885 - accuracy: 0.1052\n",
            "Epoch 18/100\n",
            "484/484 [==============================] - 15s 31ms/step - loss: 5.0089 - accuracy: 0.1154\n",
            "Epoch 19/100\n",
            "484/484 [==============================] - 15s 31ms/step - loss: 4.9240 - accuracy: 0.1224\n",
            "Epoch 20/100\n",
            "484/484 [==============================] - 15s 31ms/step - loss: 4.8440 - accuracy: 0.1315\n",
            "Epoch 21/100\n",
            "484/484 [==============================] - 15s 31ms/step - loss: 4.7580 - accuracy: 0.1369\n",
            "Epoch 22/100\n",
            "484/484 [==============================] - 15s 31ms/step - loss: 4.6760 - accuracy: 0.1452\n",
            "Epoch 23/100\n",
            "484/484 [==============================] - 15s 31ms/step - loss: 4.5866 - accuracy: 0.1541\n",
            "Epoch 24/100\n",
            "484/484 [==============================] - 15s 31ms/step - loss: 4.5072 - accuracy: 0.1671\n",
            "Epoch 25/100\n",
            "484/484 [==============================] - 15s 31ms/step - loss: 4.4276 - accuracy: 0.1734\n",
            "Epoch 26/100\n",
            "484/484 [==============================] - 15s 31ms/step - loss: 4.3481 - accuracy: 0.1847\n",
            "Epoch 27/100\n",
            "484/484 [==============================] - 15s 31ms/step - loss: 4.2580 - accuracy: 0.1934\n",
            "Epoch 28/100\n",
            "484/484 [==============================] - 15s 31ms/step - loss: 4.1729 - accuracy: 0.2053\n",
            "Epoch 29/100\n",
            "484/484 [==============================] - 15s 31ms/step - loss: 4.0900 - accuracy: 0.2134\n",
            "Epoch 30/100\n",
            "484/484 [==============================] - 15s 31ms/step - loss: 4.0068 - accuracy: 0.2238\n",
            "Epoch 31/100\n",
            "484/484 [==============================] - 15s 31ms/step - loss: 3.9396 - accuracy: 0.2334\n",
            "Epoch 32/100\n",
            "484/484 [==============================] - 16s 32ms/step - loss: 3.8570 - accuracy: 0.2449\n",
            "Epoch 33/100\n",
            "484/484 [==============================] - 15s 32ms/step - loss: 3.7741 - accuracy: 0.2593\n",
            "Epoch 34/100\n",
            "484/484 [==============================] - 15s 31ms/step - loss: 3.6882 - accuracy: 0.2692\n",
            "Epoch 35/100\n",
            "484/484 [==============================] - 15s 31ms/step - loss: 3.6101 - accuracy: 0.2791\n",
            "Epoch 36/100\n",
            "484/484 [==============================] - 15s 31ms/step - loss: 3.5491 - accuracy: 0.2933\n",
            "Epoch 37/100\n",
            "484/484 [==============================] - 15s 31ms/step - loss: 3.4712 - accuracy: 0.3053\n",
            "Epoch 38/100\n",
            "484/484 [==============================] - 15s 31ms/step - loss: 3.3933 - accuracy: 0.3177\n",
            "Epoch 39/100\n",
            "484/484 [==============================] - 15s 31ms/step - loss: 3.3206 - accuracy: 0.3329\n",
            "Epoch 40/100\n",
            "484/484 [==============================] - 15s 31ms/step - loss: 3.2553 - accuracy: 0.3525\n",
            "Epoch 41/100\n",
            "484/484 [==============================] - 15s 31ms/step - loss: 3.1853 - accuracy: 0.3626\n",
            "Epoch 42/100\n",
            "484/484 [==============================] - 15s 31ms/step - loss: 3.1118 - accuracy: 0.3749\n",
            "Epoch 43/100\n",
            "484/484 [==============================] - 15s 31ms/step - loss: 3.0545 - accuracy: 0.3908\n",
            "Epoch 44/100\n",
            "484/484 [==============================] - 15s 31ms/step - loss: 2.9924 - accuracy: 0.4055\n",
            "Epoch 45/100\n",
            "484/484 [==============================] - 15s 31ms/step - loss: 2.9184 - accuracy: 0.4201\n",
            "Epoch 46/100\n",
            "484/484 [==============================] - 15s 31ms/step - loss: 2.8689 - accuracy: 0.4353\n",
            "Epoch 47/100\n",
            "484/484 [==============================] - 15s 31ms/step - loss: 2.8045 - accuracy: 0.4461\n",
            "Epoch 48/100\n",
            "484/484 [==============================] - 15s 31ms/step - loss: 2.7543 - accuracy: 0.4635\n",
            "Epoch 49/100\n",
            "484/484 [==============================] - 15s 31ms/step - loss: 2.7012 - accuracy: 0.4704\n",
            "Epoch 50/100\n",
            "484/484 [==============================] - 15s 31ms/step - loss: 2.6415 - accuracy: 0.4830\n",
            "Epoch 51/100\n",
            "484/484 [==============================] - 15s 31ms/step - loss: 2.5867 - accuracy: 0.4994\n",
            "Epoch 52/100\n",
            "484/484 [==============================] - 15s 31ms/step - loss: 2.5488 - accuracy: 0.5096\n",
            "Epoch 53/100\n",
            "484/484 [==============================] - 15s 32ms/step - loss: 2.4895 - accuracy: 0.5200\n",
            "Epoch 54/100\n",
            "484/484 [==============================] - 15s 31ms/step - loss: 2.4354 - accuracy: 0.5301\n",
            "Epoch 55/100\n",
            "484/484 [==============================] - 15s 31ms/step - loss: 2.4032 - accuracy: 0.5410\n",
            "Epoch 56/100\n",
            "484/484 [==============================] - 15s 31ms/step - loss: 2.3532 - accuracy: 0.5525\n",
            "Epoch 57/100\n",
            "484/484 [==============================] - 15s 31ms/step - loss: 2.2976 - accuracy: 0.5667\n",
            "Epoch 58/100\n",
            "484/484 [==============================] - 15s 31ms/step - loss: 2.2662 - accuracy: 0.5722\n",
            "Epoch 59/100\n",
            "484/484 [==============================] - 15s 31ms/step - loss: 2.2234 - accuracy: 0.5847\n",
            "Epoch 60/100\n",
            "484/484 [==============================] - 15s 31ms/step - loss: 2.1894 - accuracy: 0.5897\n",
            "Epoch 61/100\n",
            "484/484 [==============================] - 15s 31ms/step - loss: 2.1575 - accuracy: 0.5949\n",
            "Epoch 62/100\n",
            "484/484 [==============================] - 15s 31ms/step - loss: 2.1206 - accuracy: 0.6046\n",
            "Epoch 63/100\n",
            "484/484 [==============================] - 15s 31ms/step - loss: 2.0752 - accuracy: 0.6126\n",
            "Epoch 64/100\n",
            "484/484 [==============================] - 15s 31ms/step - loss: 2.0420 - accuracy: 0.6211\n",
            "Epoch 65/100\n",
            "484/484 [==============================] - 15s 31ms/step - loss: 1.9932 - accuracy: 0.6336\n",
            "Epoch 66/100\n",
            "484/484 [==============================] - 15s 31ms/step - loss: 1.9656 - accuracy: 0.6386\n",
            "Epoch 67/100\n",
            "484/484 [==============================] - 15s 31ms/step - loss: 1.9383 - accuracy: 0.6436\n",
            "Epoch 68/100\n",
            "484/484 [==============================] - 15s 31ms/step - loss: 1.9175 - accuracy: 0.6499\n",
            "Epoch 69/100\n",
            "484/484 [==============================] - 15s 31ms/step - loss: 1.8795 - accuracy: 0.6583\n",
            "Epoch 70/100\n",
            "484/484 [==============================] - 15s 31ms/step - loss: 1.8612 - accuracy: 0.6621\n",
            "Epoch 71/100\n",
            "484/484 [==============================] - 15s 31ms/step - loss: 1.8232 - accuracy: 0.6692\n",
            "Epoch 72/100\n",
            "484/484 [==============================] - 15s 32ms/step - loss: 1.7912 - accuracy: 0.6752\n",
            "Epoch 73/100\n",
            "484/484 [==============================] - 16s 33ms/step - loss: 1.7694 - accuracy: 0.6836\n",
            "Epoch 74/100\n",
            "484/484 [==============================] - 15s 32ms/step - loss: 1.7224 - accuracy: 0.6968\n",
            "Epoch 75/100\n",
            "484/484 [==============================] - 15s 31ms/step - loss: 1.7098 - accuracy: 0.6931\n",
            "Epoch 76/100\n",
            "484/484 [==============================] - 15s 31ms/step - loss: 1.6872 - accuracy: 0.6987\n",
            "Epoch 77/100\n",
            "484/484 [==============================] - 15s 32ms/step - loss: 1.6689 - accuracy: 0.7037\n",
            "Epoch 78/100\n",
            "484/484 [==============================] - 15s 32ms/step - loss: 1.6484 - accuracy: 0.7067\n",
            "Epoch 79/100\n",
            "484/484 [==============================] - 15s 32ms/step - loss: 1.6134 - accuracy: 0.7146\n",
            "Epoch 80/100\n",
            "484/484 [==============================] - 15s 32ms/step - loss: 1.5922 - accuracy: 0.7180\n",
            "Epoch 81/100\n",
            "484/484 [==============================] - 15s 32ms/step - loss: 1.5697 - accuracy: 0.7204\n",
            "Epoch 82/100\n",
            "484/484 [==============================] - 15s 32ms/step - loss: 1.5622 - accuracy: 0.7253\n",
            "Epoch 83/100\n",
            "484/484 [==============================] - 15s 32ms/step - loss: 1.5305 - accuracy: 0.7302\n",
            "Epoch 84/100\n",
            "484/484 [==============================] - 15s 31ms/step - loss: 1.5133 - accuracy: 0.7336\n",
            "Epoch 85/100\n",
            "484/484 [==============================] - 15s 32ms/step - loss: 1.4835 - accuracy: 0.7385\n",
            "Epoch 86/100\n",
            "484/484 [==============================] - 15s 32ms/step - loss: 1.4692 - accuracy: 0.7402\n",
            "Epoch 87/100\n",
            "484/484 [==============================] - 15s 32ms/step - loss: 1.4441 - accuracy: 0.7488\n",
            "Epoch 88/100\n",
            "484/484 [==============================] - 15s 32ms/step - loss: 1.4246 - accuracy: 0.7535\n",
            "Epoch 89/100\n",
            "484/484 [==============================] - 15s 32ms/step - loss: 1.4257 - accuracy: 0.7504\n",
            "Epoch 90/100\n",
            "484/484 [==============================] - 15s 32ms/step - loss: 1.4065 - accuracy: 0.7534\n",
            "Epoch 91/100\n",
            "484/484 [==============================] - 15s 32ms/step - loss: 1.3901 - accuracy: 0.7597\n",
            "Epoch 92/100\n",
            "484/484 [==============================] - 15s 32ms/step - loss: 1.3664 - accuracy: 0.7605\n",
            "Epoch 93/100\n",
            "484/484 [==============================] - 16s 33ms/step - loss: 1.3690 - accuracy: 0.7597\n",
            "Epoch 94/100\n",
            "484/484 [==============================] - 16s 32ms/step - loss: 1.3417 - accuracy: 0.7654\n",
            "Epoch 95/100\n",
            "484/484 [==============================] - 15s 32ms/step - loss: 1.3216 - accuracy: 0.7686\n",
            "Epoch 96/100\n",
            "484/484 [==============================] - 15s 32ms/step - loss: 1.3130 - accuracy: 0.7722\n",
            "Epoch 97/100\n",
            "484/484 [==============================] - 16s 32ms/step - loss: 1.2932 - accuracy: 0.7767\n",
            "Epoch 98/100\n",
            "484/484 [==============================] - 15s 32ms/step - loss: 1.2907 - accuracy: 0.7761\n",
            "Epoch 99/100\n",
            "484/484 [==============================] - 15s 32ms/step - loss: 1.2821 - accuracy: 0.7770\n",
            "Epoch 100/100\n",
            "484/484 [==============================] - 15s 32ms/step - loss: 1.2572 - accuracy: 0.7804\n"
          ],
          "name": "stdout"
        }
      ]
    },
    {
      "cell_type": "code",
      "metadata": {
        "id": "1fXTEO3GJ282",
        "outputId": "3807d7b2-fbae-41e4-ed4d-a04ad8e8ee12",
        "colab": {
          "base_uri": "https://localhost:8080/",
          "height": 545
        }
      },
      "source": [
        "import matplotlib.pyplot as plt\n",
        "acc = history.history['accuracy']\n",
        "loss = history.history['loss']\n",
        "\n",
        "epochs = range(len(acc))\n",
        "\n",
        "plt.plot(epochs, acc, 'b', label='Training accuracy')\n",
        "plt.title('Training accuracy')\n",
        "\n",
        "plt.figure()\n",
        "\n",
        "plt.plot(epochs, loss, 'b', label='Training Loss')\n",
        "plt.title('Training loss')\n",
        "plt.legend()\n",
        "\n",
        "plt.show()"
      ],
      "execution_count": null,
      "outputs": [
        {
          "output_type": "display_data",
          "data": {
            "image/png": "[encoded data removed]",
            "text/plain": [
              "<Figure size 432x288 with 1 Axes>"
            ]
          },
          "metadata": {
            "tags": [],
            "needs_background": "light"
          }
        },
        {
          "output_type": "display_data",
          "data": {
            "image/png": "[encoded data removed]",
            "text/plain": [
              "<Figure size 432x288 with 1 Axes>"
            ]
          },
          "metadata": {
            "tags": [],
            "needs_background": "light"
          }
        }
      ]
    },
    {
      "cell_type": "code",
      "metadata": {
        "id": "6Vc6PHgxa6Hm"
      },
      "source": [
        "seed_text = \"Help me Obi Wan Kenobi, you're my only hope\"\n",
        "next_words = 100\n",
        "  \n",
        "for _ in range(next_words):\n",
        "\ttoken_list = tokenizer.texts_to_sequences([seed_text])[0]\n",
        "\ttoken_list = pad_sequences([token_list], maxlen=max_sequence_len-1, padding='pre')\n",
        "\tpredicted = model.predict_classes(token_list, verbose=0)\n",
        "\toutput_word = \"\"\n",
        "\tfor word, index in tokenizer.word_index.items():\n",
        "\t\tif index == predicted:\n",
        "\t\t\toutput_word = word\n",
        "\t\t\tbreak\n",
        "\tseed_text += \" \" + output_word\n",
        "print(seed_text)"
      ],
      "execution_count": null,
      "outputs": []
    }
  ]
}